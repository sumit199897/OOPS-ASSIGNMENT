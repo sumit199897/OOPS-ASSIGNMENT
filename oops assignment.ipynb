{
 "cells": [
  {
   "cell_type": "code",
   "execution_count": 2,
   "id": "94e2597e-0875-4355-bc16-6974ea5f7502",
   "metadata": {},
   "outputs": [],
   "source": [
    "# Explain Class and Object with respect to Object-Oriented Programming. Give a suitable example."
   ]
  },
  {
   "cell_type": "markdown",
   "id": "b70ca7a3-5fea-4477-95d1-1bb3715b2d01",
   "metadata": {},
   "source": [
    "In object-oriented programming (OOP), a class is a blueprint for creating objects. It defines the properties and behaviors that all objects of that class will have. An object is an instance of a class. It is a self-contained entity that has its own set of properties and behavior"
   ]
  },
  {
   "cell_type": "code",
   "execution_count": 4,
   "id": "a6cbe675-9fd0-4bd7-9ec8-4d66127120d5",
   "metadata": {},
   "outputs": [],
   "source": [
    "# Name the four pillars of OOPs."
   ]
  },
  {
   "cell_type": "markdown",
   "id": "660d7c51-0dee-47d3-af9e-d8c73495a3c7",
   "metadata": {},
   "source": [
    "# The four pillars of object-oriented programming (OOPs) are:  \n",
    "* Abstraction\n",
    "* Encapsulation\n",
    "* Inheritance\n",
    "* Polymorphism"
   ]
  },
  {
   "cell_type": "code",
   "execution_count": 5,
   "id": "b1def5bd-0b06-4508-a50f-971efa45d4ef",
   "metadata": {},
   "outputs": [],
   "source": [
    "# Explain why the __init__() function is used. Give a suitable example."
   ]
  },
  {
   "cell_type": "markdown",
   "id": "1bd72969-ba57-4040-8176-6f26b9e25796",
   "metadata": {},
   "source": [
    "# The __init__ method lets the class initialize the object's attributes and serves no other purpose."
   ]
  },
  {
   "cell_type": "code",
   "execution_count": 6,
   "id": "aec98bf9-592c-41ae-aa4a-661ae57b5bdc",
   "metadata": {},
   "outputs": [],
   "source": [
    "class Car:\n",
    "  def __init__(self, speed, color, num_doors):\n",
    "    self.speed = speed\n",
    "    self.color = color\n",
    "    self.num_doors = num_doors\n",
    "\n",
    "car = Car(100, \"red\", 4)"
   ]
  },
  {
   "cell_type": "code",
   "execution_count": 7,
   "id": "8c103643-7380-4ad5-af7c-ee546973d540",
   "metadata": {},
   "outputs": [
    {
     "data": {
      "text/plain": [
       "'red'"
      ]
     },
     "execution_count": 7,
     "metadata": {},
     "output_type": "execute_result"
    }
   ],
   "source": [
    "car.color"
   ]
  },
  {
   "cell_type": "code",
   "execution_count": 9,
   "id": "1acc5ae7-71bf-4fa6-8ec9-5356b50fd3ca",
   "metadata": {},
   "outputs": [
    {
     "data": {
      "text/plain": [
       "4"
      ]
     },
     "execution_count": 9,
     "metadata": {},
     "output_type": "execute_result"
    }
   ],
   "source": [
    "car.num_doors"
   ]
  },
  {
   "cell_type": "code",
   "execution_count": 10,
   "id": "13cd5b98-c5a2-4938-a4f6-9948fde3db31",
   "metadata": {},
   "outputs": [
    {
     "data": {
      "text/plain": [
       "100"
      ]
     },
     "execution_count": 10,
     "metadata": {},
     "output_type": "execute_result"
    }
   ],
   "source": [
    "car.speed"
   ]
  },
  {
   "cell_type": "code",
   "execution_count": 11,
   "id": "8c632ca6-bb16-4ace-86f1-a00d84bd8572",
   "metadata": {},
   "outputs": [],
   "source": [
    "# Why self is used in OOPs?"
   ]
  },
  {
   "cell_type": "markdown",
   "id": "e91d7a48-4125-4078-9c7c-59a066e6d94d",
   "metadata": {},
   "source": [
    "# The self is used to represent the instance of the class. With this keyword, you can access the attributes and methods of the class in python"
   ]
  },
  {
   "cell_type": "code",
   "execution_count": 12,
   "id": "a5cc481f-5d74-4f7d-9f99-c25e7d7f38da",
   "metadata": {},
   "outputs": [],
   "source": [
    "# What is inheritance? Give an example for each type of inheritance."
   ]
  },
  {
   "cell_type": "markdown",
   "id": "352dc26e-3dad-43ea-a2a5-b109473d95b9",
   "metadata": {},
   "source": [
    "# Inheritance is a mechanism in which one class acquires the property of another class.\n",
    "# Types of Inheritance in Python\n",
    "# Single Inheritance:\n",
    "# Single inheritance enables a derived class to inherit properties from a single parent class, thus enabling code reusability and the addition of new features to existing code\n",
    "# Multiple Inheritance: \n",
    "# When a class can be derived from more than one base class this type of inheritance is called multiple inheritances. In multiple inheritances, all the features of the base classes are inherited into the derived class.\n",
    "# Multilevel Inheritance :\n",
    "# In multilevel inheritance, features of the base class and the derived class are further inherited into the new derived class. This is similar to a relationship representing a child and a grandfather.\n",
    "# Hierarchical Inheritance: \n",
    "# When more than one derived class are created from a single base this type of inheritance is called hierarchical inheritance. In this program, we have a parent (base) class and two child (derived) classes\n",
    "# Hybrid Inheritance:\n",
    "# Inheritance consisting of multiple types of inheritance is called hybrid inheritance."
   ]
  },
  {
   "cell_type": "code",
   "execution_count": null,
   "id": "07fe747e-aa00-4f70-8875-96c16389d700",
   "metadata": {},
   "outputs": [],
   "source": []
  }
 ],
 "metadata": {
  "kernelspec": {
   "display_name": "Python 3 (ipykernel)",
   "language": "python",
   "name": "python3"
  },
  "language_info": {
   "codemirror_mode": {
    "name": "ipython",
    "version": 3
   },
   "file_extension": ".py",
   "mimetype": "text/x-python",
   "name": "python",
   "nbconvert_exporter": "python",
   "pygments_lexer": "ipython3",
   "version": "3.10.8"
  }
 },
 "nbformat": 4,
 "nbformat_minor": 5
}
